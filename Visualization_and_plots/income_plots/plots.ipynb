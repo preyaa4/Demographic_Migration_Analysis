{
 "cells": [
  {
   "cell_type": "code",
   "execution_count": null,
   "id": "d78d715e-c394-4c88-b2cc-add68ed92335",
   "metadata": {},
   "outputs": [],
   "source": [
    "run MigrationData.py\n"
   ]
  },
  {
   "cell_type": "code",
   "execution_count": null,
   "id": "a851fcdd-c77c-4735-96a2-5322f8d9b9a6",
   "metadata": {},
   "outputs": [],
   "source": [
    "# 2011 data #\n",
    "\n",
    "data_2011 = MigrationData(2011)\n",
    "data_2011.load_dframe()\n",
    "\n",
    "age_data_2011 = data_2011.get_key_data('AGE', 'state', False)        \n",
    "age_group_data_2011 = data_2011.get_age_group_data(True)\n",
    "sex_data_2011 = data_2011.get_key_data('SEX', 'state', False)\n",
    "sex_group_data_2011 = data_2011.get_sex_group_data(True)  \n",
    "income_data_2011 = data_2011.get_income_group_data(False)\n",
    "income_group_data_2011 = data_2011.get_income_group_data(True)\n",
    "poverty_group_data_2011 = data_2011.get_poverty_group_data(True)\n",
    "housing_group_data_2011 = data_2011.get_housing_group_data(True)\n",
    "race_group_data_2011 = data_2011.get_race_group_data(True)\n",
    "ea_data_2011 = data_2011.get_key_data('EDUCATIONAL ATTAINMENT','state', False)\n",
    "ea_group_data_2011 = data_2011.get_education_group_data(True)\n",
    "\n",
    "# 2012 data #\n",
    "\n",
    "data_2012 = MigrationData(2012)\n",
    "data_2012.load_dframe()\n",
    "\n",
    "age_data_2012 = data_2012.get_key_data('AGE', 'state', False)        \n",
    "age_group_data_2012 = data_2012.get_age_group_data(True)\n",
    "sex_data_2012 = data_2012.get_key_data('SEX', 'state', False)\n",
    "sex_group_data_2012 = data_2012.get_sex_group_data(True)  \n",
    "income_data_2012 = data_2012.get_income_group_data(False)\n",
    "income_group_data_2012 = data_2012.get_income_group_data(True)\n",
    "poverty_group_data_2012 = data_2012.get_poverty_group_data(True)\n",
    "housing_group_data_2012 = data_2012.get_housing_group_data(True)\n",
    "race_group_data_2012 = data_2012.get_race_group_data(True)\n",
    "ea_data_2012 = data_2012.get_key_data('EDUCATIONAL ATTAINMENT','state', False)\n",
    "ea_group_data_2012 = data_2012.get_education_group_data(True)\n",
    "\n",
    "\n",
    "# 2013 data #\n",
    "\n",
    "data_2013 = MigrationData(2013)\n",
    "data_2013.load_dframe()\n",
    "\n",
    "age_data_2013 = data_2013.get_key_data('AGE', 'state', False)        \n",
    "age_group_data_2013 = data_2013.get_age_group_data(True)\n",
    "sex_data_2013 = data_2013.get_key_data('SEX', 'state', False)\n",
    "sex_group_data_2013 = data_2013.get_sex_group_data(True)  \n",
    "income_data_2013 = data_2013.get_income_group_data(False)\n",
    "income_group_data_2013 = data_2013.get_income_group_data(True)\n",
    "poverty_group_data_2013 = data_2013.get_poverty_group_data(True)\n",
    "housing_group_data_2013 = data_2013.get_housing_group_data(True)\n",
    "race_group_data_2013 = data_2013.get_race_group_data(True)\n",
    "ea_data_2013 = data_2013.get_key_data('EDUCATIONAL ATTAINMENT','state', False)\n",
    "ea_group_data_2013 = data_2013.get_education_group_data(True)\n",
    "\n",
    "# 2014 data #\n",
    "\n",
    "data_2014 = MigrationData(2014)\n",
    "data_2014.load_dframe()\n",
    "\n",
    "age_data_2014 = data_2014.get_key_data('AGE', 'state', False)        \n",
    "age_group_data_2014 = data_2014.get_age_group_data(True)\n",
    "sex_data_2014 = data_2014.get_key_data('SEX', 'state', False)\n",
    "sex_group_data_2014 = data_2014.get_sex_group_data(True)  \n",
    "income_data_2014 = data_2014.get_income_group_data(False)\n",
    "income_group_data_2014 = data_2014.get_income_group_data(True)\n",
    "poverty_group_data_2014 = data_2014.get_poverty_group_data(True)\n",
    "housing_group_data_2014 = data_2014.get_housing_group_data(True)\n",
    "race_group_data_2014 = data_2014.get_race_group_data(True)\n",
    "ea_data_2014 = data_2014.get_key_data('EDUCATIONAL ATTAINMENT','state', False)\n",
    "ea_group_data_2014 = data_2014.get_education_group_data(True)\n",
    "\n",
    "# 2015 data #\n",
    "\n",
    "data_2015 = MigrationData(2015)\n",
    "data_2015.load_dframe()\n",
    "\n",
    "age_data_2015 = data_2015.get_key_data('AGE', 'state', False)        \n",
    "age_group_data_2015 = data_2015.get_age_group_data(True)\n",
    "sex_data_2015 = data_2015.get_key_data('SEX', 'state', False)\n",
    "sex_group_data_2015 = data_2015.get_sex_group_data(True)  \n",
    "income_data_2015 = data_2015.get_income_group_data(False)\n",
    "income_group_data_2015 = data_2015.get_income_group_data(True)\n",
    "poverty_group_data_2015 = data_2015.get_poverty_group_data(True)\n",
    "housing_group_data_2015 = data_2015.get_housing_group_data(True)\n",
    "race_group_data_2015 = data_2015.get_race_group_data(True)\n",
    "ea_data_2015 = data_2015.get_key_data('EDUCATIONAL ATTAINMENT','state', False)\n",
    "ea_group_data_2015 = data_2015.get_education_group_data(True)\n",
    "\n",
    "# 2016 data #\n",
    "\n",
    "data_2016 = MigrationData(2016)\n",
    "data_2016.load_dframe()\n",
    "\n",
    "age_data_2016 = data_2016.get_key_data('AGE', 'state', False)        \n",
    "age_group_data_2016 = data_2016.get_age_group_data(True)\n",
    "sex_data_2016 = data_2016.get_key_data('SEX', 'state', False)\n",
    "sex_group_data_2016 = data_2016.get_sex_group_data(True)  \n",
    "income_data_2016 = data_2016.get_income_group_data(False)\n",
    "income_group_data_2016 = data_2016.get_income_group_data(True)\n",
    "poverty_group_data_2016 = data_2016.get_poverty_group_data(True)\n",
    "housing_group_data_2016 = data_2016.get_housing_group_data(True)\n",
    "race_group_data_2016 = data_2016.get_race_group_data(True)\n",
    "ea_data_2016 = data_2016.get_key_data('EDUCATIONAL ATTAINMENT','state', False)\n",
    "ea_group_data_2016 = data_2016.get_education_group_data(True)\n",
    "\n",
    "# 2017 data #\n",
    "\n",
    "data_2017 = MigrationData(2017)\n",
    "data_2017.load_dframe()\n",
    "\n",
    "age_data_2017 = data_2017.get_key_data('AGE', 'state', False)        \n",
    "age_group_data_2017 = data_2017.get_age_group_data(True)\n",
    "sex_data_2017 = data_2017.get_key_data('SEX', 'state', False)\n",
    "sex_group_data_2017 = data_2017.get_sex_group_data(True)  \n",
    "income_data_2017 = data_2017.get_income_group_data(False)\n",
    "income_group_data_2017 = data_2017.get_income_group_data(True)\n",
    "poverty_group_data_2017 = data_2017.get_poverty_group_data(True)\n",
    "housing_group_data_2017 = data_2017.get_housing_group_data(True)\n",
    "race_group_data_2017 = data_2017.get_race_group_data(True)\n",
    "ea_data_2017 = data_2017.get_key_data('EDUCATIONAL ATTAINMENT','state', False)\n",
    "ea_group_data_2017 = data_2017.get_education_group_data(True)\n",
    "\n",
    "# 2018 data #\n",
    "\n",
    "data_2018 = MigrationData(2018)\n",
    "data_2018.load_dframe()\n",
    "\n",
    "age_data_2018 = data_2018.get_key_data('AGE', 'state', False)        \n",
    "age_group_data_2018 = data_2018.get_age_group_data(True)\n",
    "sex_data_2018 = data_2018.get_key_data('SEX', 'state', False)\n",
    "sex_group_data_2018 = data_2018.get_sex_group_data(True)  \n",
    "income_data_2018 = data_2018.get_income_group_data(False)\n",
    "income_group_data_2018 = data_2018.get_income_group_data(True)\n",
    "poverty_group_data_2018 = data_2018.get_poverty_group_data(True)\n",
    "housing_group_data_2018 = data_2018.get_housing_group_data(True)\n",
    "race_group_data_2018 = data_2018.get_race_group_data(True)\n",
    "ea_data_2018 = data_2018.get_key_data('EDUCATIONAL ATTAINMENT','state', False)\n",
    "ea_group_data_2018 = data_2018.get_education_group_data(True)\n",
    "\n",
    "# 2019 data #\n",
    "\n",
    "data_2019 = MigrationData(2019)\n",
    "data_2019.load_dframe()\n",
    "\n",
    "age_data_2019 = data_2019.get_key_data('AGE', 'state', False)        \n",
    "age_group_data_2019 = data_2019.get_age_group_data(True)\n",
    "sex_data_2019 = data_2019.get_key_data('SEX', 'state', False)\n",
    "sex_group_data_2019 = data_2019.get_sex_group_data(True)  \n",
    "income_data_2019 = data_2019.get_income_group_data(False)\n",
    "income_group_data_2019 = data_2019.get_income_group_data(True)\n",
    "poverty_group_data_2019 = data_2019.get_poverty_group_data(True)\n",
    "housing_group_data_2019 = data_2019.get_housing_group_data(True)\n",
    "race_group_data_2019 = data_2019.get_race_group_data(True)\n",
    "ea_data_2019 = data_2019.get_key_data('EDUCATIONAL ATTAINMENT','state', False)\n",
    "ea_group_data_2019 = data_2019.get_education_group_data(True)\n"
   ]
  },
  {
   "cell_type": "code",
   "execution_count": null,
   "id": "96dce02d-66ff-4a88-a1a5-a14a70691bb4",
   "metadata": {},
   "outputs": [],
   "source": [
    "import matplotlib.pyplot as plt"
   ]
  },
  {
   "cell_type": "code",
   "execution_count": null,
   "id": "101648a9-7433-485a-9dde-8b13483d0c67",
   "metadata": {},
   "outputs": [],
   "source": [
    "x_pos=['0 to 35k','35k to 50k','50k to 75k', '75k+']\n",
    "plt.plot(income_group_data.loc['New York'],label='2010')\n",
    "plt.plot(income_group_data_2019.loc['New York'],label='2019')\n",
    "ax=plt.axes()\n",
    "ax.set_xticklabels(x_pos)\n",
    "plt.legend()\n",
    "plt.title('Income mobility of New York')\n",
    "plt.ylabel('% of total population of state')\n",
    "plt.xlabel('income of each household in dollars')\n",
    "\n",
    "\n",
    "\n"
   ]
  },
  {
   "cell_type": "code",
   "execution_count": null,
   "id": "aa56ec0e-9614-4c18-9d83-17a6f1abb8e6",
   "metadata": {},
   "outputs": [],
   "source": [
    "x_pos=['0 to 35k','35k to 50k','50k to 75k', '75k+']\n",
    "plt.plot(income_group_data.loc['Nevada'],'b',label='2010')\n",
    "plt.plot(income_group_data_2019.loc['Nevada'],'r',label='2019')\n",
    "ax=plt.axes()\n",
    "ax.set_xticklabels(x_pos)\n",
    "plt.legend()\n",
    "plt.title('income mobility of Nevada')\n",
    "plt.ylabel('% of total population of state')\n",
    "plt.xlabel('income of each household in dollars')"
   ]
  },
  {
   "cell_type": "code",
   "execution_count": null,
   "id": "fcabf27f-32a3-418d-a47d-b9ec87310c9a",
   "metadata": {},
   "outputs": [],
   "source": [
    "income_0to35_2010=(sum(income_data['loss or $1 to $34,999'])/sum(income_data.sum()))*100"
   ]
  },
  {
   "cell_type": "code",
   "execution_count": null,
   "id": "a9f7bbc9-e122-4137-a0f5-749b568c858a",
   "metadata": {},
   "outputs": [],
   "source": [
    "income_35to50_2010=(sum(income_data['$35,000 to $49,999'])/sum(income_data.sum()))*100"
   ]
  },
  {
   "cell_type": "code",
   "execution_count": null,
   "id": "81575827-4db0-452c-84f6-345fd56046fc",
   "metadata": {},
   "outputs": [],
   "source": [
    "income_50to75_2010=(sum(income_data['$50,000 to $74,999'])/sum(income_data.sum()))*100"
   ]
  },
  {
   "cell_type": "code",
   "execution_count": null,
   "id": "c074b10c-1d36-412f-8c04-d2fe141006e0",
   "metadata": {},
   "outputs": [],
   "source": [
    "income_75_2010=(sum(income_data['$75,000 and over'])/sum(income_data.sum()))*100"
   ]
  },
  {
   "cell_type": "code",
   "execution_count": null,
   "id": "0805001b-259e-4054-b83b-fa7f6305ad52",
   "metadata": {},
   "outputs": [],
   "source": [
    "income_0to35_2011=(sum(income_data_2011['loss or $1 to $34,999'])/sum(income_data_2011.sum()))*100"
   ]
  },
  {
   "cell_type": "code",
   "execution_count": null,
   "id": "ba3cba1d-1c03-44aa-83f4-f9fc383c0f27",
   "metadata": {},
   "outputs": [],
   "source": [
    "income_35to50_2011=(sum(income_data_2011['$35,000 to $49,999'])/sum(income_data_2011.sum()))*100"
   ]
  },
  {
   "cell_type": "code",
   "execution_count": null,
   "id": "b66bb645-cd49-4a3c-acc3-06214eeeb8a9",
   "metadata": {},
   "outputs": [],
   "source": [
    "income_50to75_2011=(sum(income_data_2011['$50,000 to $74,999'])/sum(income_data_2011.sum()))*100"
   ]
  },
  {
   "cell_type": "code",
   "execution_count": null,
   "id": "c46d07ce-a907-4358-be99-94987a87f64d",
   "metadata": {},
   "outputs": [],
   "source": [
    "income_75_2011=(sum(income_data_2011['$75,000 and over'])/sum(income_data_2011.sum()))*100"
   ]
  },
  {
   "cell_type": "code",
   "execution_count": null,
   "id": "396c811e-4916-4cb4-8cb2-40d54e1be89b",
   "metadata": {},
   "outputs": [],
   "source": [
    "income_0to35_2012=(sum(income_data_2012['loss or $1 to $34,999'])/sum(income_data_2012.sum()))*100"
   ]
  },
  {
   "cell_type": "code",
   "execution_count": null,
   "id": "f60ad3c1-c92f-4bf9-8dfe-03166ef5cb49",
   "metadata": {},
   "outputs": [],
   "source": [
    "income_35to50_2012=(sum(income_data_2012['$35,000 to $49,999'])/sum(income_data_2012.sum()))*100"
   ]
  },
  {
   "cell_type": "code",
   "execution_count": null,
   "id": "e6647ea6-2e40-48bf-974b-7cf7e21041bf",
   "metadata": {},
   "outputs": [],
   "source": [
    "income_50to75_2012=(sum(income_data_2012['$50,000 to $74,999'])/sum(income_data_2012.sum()))*100"
   ]
  },
  {
   "cell_type": "code",
   "execution_count": null,
   "id": "d2a16a29-df8c-4dad-a1cf-03e826121fea",
   "metadata": {},
   "outputs": [],
   "source": [
    "income_75_2012=(sum(income_data_2012['$75,000 and over'])/sum(income_data_2012.sum()))*100"
   ]
  },
  {
   "cell_type": "code",
   "execution_count": null,
   "id": "2b71a383-7d23-4f5e-b53c-151bfeb3fc00",
   "metadata": {},
   "outputs": [],
   "source": [
    "income_0to35_2013=(sum(income_data_2013['loss or $1 to $34,999'])/sum(income_data_2013.sum()))*100"
   ]
  },
  {
   "cell_type": "code",
   "execution_count": null,
   "id": "69bb5bf2-5224-4bd8-a558-4ffc34edaeb3",
   "metadata": {},
   "outputs": [],
   "source": [
    "income_35to50_2013=(sum(income_data_2013['$35,000 to $49,999'])/sum(income_data_2013.sum()))*100"
   ]
  },
  {
   "cell_type": "code",
   "execution_count": null,
   "id": "3c39055b-52bc-4f77-ad1b-2785a70446a9",
   "metadata": {},
   "outputs": [],
   "source": [
    "income_50to75_2013=(sum(income_data_2013['$50,000 to $74,999'])/sum(income_data_2013.sum()))*100"
   ]
  },
  {
   "cell_type": "code",
   "execution_count": null,
   "id": "ed1c2cba-99d5-4e5e-8d87-9ef3854822b8",
   "metadata": {},
   "outputs": [],
   "source": [
    "income_75_2013=(sum(income_data_2013['$75,000 and over'])/sum(income_data_2013.sum()))*100"
   ]
  },
  {
   "cell_type": "code",
   "execution_count": null,
   "id": "5e67c2f3-64c5-4ae3-858f-d8ff666eca5c",
   "metadata": {},
   "outputs": [],
   "source": [
    "income_0to35_2014=(sum(income_data_2014['loss or $1 to $34,999'])/sum(income_data_2014.sum()))*100"
   ]
  },
  {
   "cell_type": "code",
   "execution_count": null,
   "id": "dfde2556-6a31-411b-9358-ab741722e907",
   "metadata": {},
   "outputs": [],
   "source": [
    "income_35to50_2014=(sum(income_data_2014['$35,000 to $49,999'])/sum(income_data_2014.sum()))*100"
   ]
  },
  {
   "cell_type": "code",
   "execution_count": null,
   "id": "1634e788-6d02-4c77-9bab-638e34d1450d",
   "metadata": {},
   "outputs": [],
   "source": [
    "income_50to75_2014=(sum(income_data_2014['$50,000 to $74,999'])/sum(income_data_2014.sum()))*100"
   ]
  },
  {
   "cell_type": "code",
   "execution_count": null,
   "id": "c4c24f27-346d-42b2-b5af-8c5504ae751b",
   "metadata": {},
   "outputs": [],
   "source": [
    "income_75_2014=(sum(income_data_2014['$75,000 and over'])/sum(income_data_2014.sum()))*100"
   ]
  },
  {
   "cell_type": "code",
   "execution_count": null,
   "id": "3c2e64c3-f8d6-487f-b24b-860d410cb698",
   "metadata": {},
   "outputs": [],
   "source": [
    "income_0to35_2015=(sum(income_data_2015['loss or $1 to $34,999'])/sum(income_data_2015.sum()))*100"
   ]
  },
  {
   "cell_type": "code",
   "execution_count": null,
   "id": "3eb5fa7f-bb28-4286-b6a1-8139cc7d0c90",
   "metadata": {},
   "outputs": [],
   "source": [
    "income_35to50_2015=(sum(income_data_2015['$35,000 to $49,999'])/sum(income_data_2015.sum()))*100"
   ]
  },
  {
   "cell_type": "code",
   "execution_count": null,
   "id": "00eb7802-063c-4765-9889-f76fb57d7eeb",
   "metadata": {},
   "outputs": [],
   "source": [
    "income_50to75_2015=(sum(income_data_2015['$50,000 to $74,999'])/sum(income_data_2015.sum()))*100"
   ]
  },
  {
   "cell_type": "code",
   "execution_count": null,
   "id": "1b4fc184-67b7-4d7b-9db8-dc69f794941f",
   "metadata": {},
   "outputs": [],
   "source": [
    "income_75_2015=(sum(income_data_2015['$75,000 and over'])/sum(income_data_2015.sum()))*100"
   ]
  },
  {
   "cell_type": "code",
   "execution_count": null,
   "id": "6834d1c8-b3d8-4cf7-9faf-f2b475a3b93e",
   "metadata": {},
   "outputs": [],
   "source": [
    "income_0to35_2016=(sum(income_data_2016['loss or $1 to $34,999'])/sum(income_data_2016.sum()))*100"
   ]
  },
  {
   "cell_type": "code",
   "execution_count": null,
   "id": "8c244ace-c5b8-4c52-bffb-161ff7b45984",
   "metadata": {},
   "outputs": [],
   "source": [
    "income_35to50_2016=(sum(income_data_2016['$35,000 to $49,999'])/sum(income_data_2016.sum()))*100"
   ]
  },
  {
   "cell_type": "code",
   "execution_count": null,
   "id": "4fff76d4-0161-4ab7-bef1-f6050d537f5c",
   "metadata": {},
   "outputs": [],
   "source": [
    "income_50to75_2016=(sum(income_data_2016['$50,000 to $74,999'])/sum(income_data_2016.sum()))*100"
   ]
  },
  {
   "cell_type": "code",
   "execution_count": null,
   "id": "800078ae-66d0-45d3-85ca-354e92085221",
   "metadata": {},
   "outputs": [],
   "source": [
    "income_75_2016=(sum(income_data_2016['$75,000 and over'])/sum(income_data_2016.sum()))*100"
   ]
  },
  {
   "cell_type": "code",
   "execution_count": null,
   "id": "76ed8f9b-6417-453d-9eff-66cd2e183ce5",
   "metadata": {},
   "outputs": [],
   "source": [
    "income_0to35_2017=(sum(income_data_2017['loss or $1 to $34,999'])/sum(income_data_2017.sum()))*100"
   ]
  },
  {
   "cell_type": "code",
   "execution_count": null,
   "id": "84951c73-f4ad-4049-8ba7-634828c8d1ca",
   "metadata": {},
   "outputs": [],
   "source": [
    "income_35to50_2017=(sum(income_data_2017['$35,000 to $49,999'])/sum(income_data_2017.sum()))*100"
   ]
  },
  {
   "cell_type": "code",
   "execution_count": null,
   "id": "9fc103b7-53b7-44de-ba76-4e690e6adc29",
   "metadata": {},
   "outputs": [],
   "source": [
    "income_50to75_2017=(sum(income_data_2017['$50,000 to $74,999'])/sum(income_data_2017.sum()))*100"
   ]
  },
  {
   "cell_type": "code",
   "execution_count": null,
   "id": "49012c88-44b8-4ffc-ba97-f7f2a3515b59",
   "metadata": {},
   "outputs": [],
   "source": [
    "income_75_2017=(sum(income_data_2017['$75,000 and over'])/sum(income_data_2017.sum()))*100"
   ]
  },
  {
   "cell_type": "code",
   "execution_count": null,
   "id": "2fe39aee-71e9-4df7-88fc-518f0ddfc727",
   "metadata": {},
   "outputs": [],
   "source": [
    "income_0to35_2018=(sum(income_data_2018['loss or $1 to $34,999'])/sum(income_data_2018.sum()))*100"
   ]
  },
  {
   "cell_type": "code",
   "execution_count": null,
   "id": "2ec6fdc5-fb1b-4188-b640-ad64f9a28f5d",
   "metadata": {},
   "outputs": [],
   "source": [
    "income_35to50_2018=(sum(income_data_2018['$35,000 to $49,999'])/sum(income_data_2018.sum()))*100"
   ]
  },
  {
   "cell_type": "code",
   "execution_count": null,
   "id": "e068d7f9-300d-4525-a58f-14ee60e311f6",
   "metadata": {},
   "outputs": [],
   "source": [
    "income_50to75_2018=(sum(income_data_2018['$50,000 to $74,999'])/sum(income_data_2018.sum()))*100"
   ]
  },
  {
   "cell_type": "code",
   "execution_count": null,
   "id": "df089b30-2f75-4b81-a5ae-f9c7efb01e25",
   "metadata": {},
   "outputs": [],
   "source": [
    "income_75_2018=(sum(income_data_2018['$75,000 and over'])/sum(income_data_2018.sum()))*100"
   ]
  },
  {
   "cell_type": "code",
   "execution_count": null,
   "id": "157a2206-6b0d-487b-a186-27f4d0494aa3",
   "metadata": {},
   "outputs": [],
   "source": [
    "income_0to35_2019=(sum(income_data_2019['loss or $1 to $34,999'])/sum(income_data_2019.sum()))*100"
   ]
  },
  {
   "cell_type": "code",
   "execution_count": null,
   "id": "1e0e8c45-acfb-4e4c-ae79-697c943c4e0e",
   "metadata": {},
   "outputs": [],
   "source": [
    "income_35to50_2019=(sum(income_data_2019['$35,000 to $49,999'])/sum(income_data_2019.sum()))*100"
   ]
  },
  {
   "cell_type": "code",
   "execution_count": null,
   "id": "2ebac087-52e4-4772-8d94-985cb7f6e95f",
   "metadata": {},
   "outputs": [],
   "source": [
    "income_50to75_2019=(sum(income_data_2019['$50,000 to $74,999'])/sum(income_data_2019.sum()))*100"
   ]
  },
  {
   "cell_type": "code",
   "execution_count": null,
   "id": "c2d33f36-97eb-4fd6-8b4e-dcf2a7f10d63",
   "metadata": {},
   "outputs": [],
   "source": [
    "income_75_2019=(sum(income_data_2019['$75,000 and over'])/sum(income_data_2019.sum()))*100"
   ]
  },
  {
   "cell_type": "code",
   "execution_count": null,
   "id": "d6a47a55-ab2d-487f-a673-985670b5e783",
   "metadata": {},
   "outputs": [],
   "source": [
    "x_pos=['0 to 35k','35k to 50k','50k to 75k', '75k+']\n",
    "y=[income_0to35_2019,income_35to50_2019,income_50to75_2019,income_75_2019]\n",
    "plt.figure(figsize=(7,7)) \n",
    "plt.plot(y,'--ro',label='2019')\n",
    "plt.xticks([0.0,1.0,2.0,3.0],x_pos)\n",
    "plt.yticks([i for i in range(0,70,5)])\n",
    "plt.legend()\n",
    "plt.title('Trend of people moving according to income')\n",
    "plt.ylabel('% of people moving according to income')\n",
    "plt.xlabel('Individual income in dollars')\n",
    "plt.savefig('income_trend_2019')"
   ]
  },
  {
   "cell_type": "code",
   "execution_count": null,
   "id": "03e91dc5-cf30-41cd-90bf-67ec19cb6858",
   "metadata": {},
   "outputs": [],
   "source": [
    "import numpy as np"
   ]
  },
  {
   "cell_type": "code",
   "execution_count": null,
   "id": "0dabfff2-1fbc-414c-abf9-57fb4a338a3d",
   "metadata": {},
   "outputs": [],
   "source": [
    "x_pos=['0 to 35k','35k to 50k','50k to 75k', '75k+']\n",
    "y=[income_0to35_2010,income_35to50_2010,income_50to75_2010,income_75_2010]\n",
    "z=[income_0to35_2019,income_35to50_2019,income_50to75_2019,income_75_2019]\n",
    "plt.figure(figsize=(7,7)) \n",
    "X_axis = np.arange(len(x_pos))\n",
    "plt.bar(X_axis-0.2,y,width=0.4,color='mediumseagreen',label='2010')\n",
    "plt.bar(X_axis+0.2,z,width=0.4,color='dodgerblue',label='2019')\n",
    "plt.xticks([0.0,1.0,2.0,3.0],x_pos)\n",
    "plt.yticks([i for i in range(0,80,5)])\n",
    "plt.legend()\n",
    "plt.title('Income trend of migrating people',fontsize='19',pad=15)\n",
    "plt.ylabel('Percentage',fontsize='14')\n",
    "plt.xlabel('Individual income in dollars',fontsize='14')\n",
    "plt.savefig('change_in_trend_bar')\n"
   ]
  },
  {
   "cell_type": "code",
   "execution_count": null,
   "id": "3bf154b8-f30b-44db-821d-e094cea07f68",
   "metadata": {},
   "outputs": [],
   "source": [
    "x_pos=['2010','2011','2012', '2013','2014','2015','2016','2017','2018','2019']\n",
    "y=[income_0to35_2010,income_0to35_2011,income_0to35_2012,income_0to35_2013,income_0to35_2014,income_0to35_2015,income_0to35_2016,income_0to35_2017,income_0to35_2018,income_0to35_2019]\n",
    "plt.figure(figsize=(7,7)) \n",
    "plt.plot(y,'--bo',label='')\n",
    "plt.xticks([0.0,1.0,2.0,3.0,4.0,5.0,6.0,7.0,8.0,9.0],x_pos)\n",
    "plt.yticks([i for i in range(50,77,3)])\n",
    "plt.title('Trend of people moving earning in the range $0 to 35k')\n",
    "plt.ylabel('in % of total people moving')\n",
    "plt.xlabel('Year')\n",
    "plt.savefig('income_trend_0to35k')\n"
   ]
  },
  {
   "cell_type": "code",
   "execution_count": null,
   "id": "3cf4403c-ba9a-44cf-a878-6b26d39f4c62",
   "metadata": {},
   "outputs": [],
   "source": [
    "x_pos=['2010','2011','2012', '2013','2014','2015','2016','2017','2018','2019']\n",
    "y=[income_35to50_2010,income_35to50_2011,income_35to50_2012,income_35to50_2013,income_35to50_2014,income_35to50_2015,income_35to50_2016,income_35to50_2017,income_35to50_2018,income_35to50_2019]\n",
    "plt.figure(figsize=(7,7)) \n",
    "plt.plot(y,'--bo',label='')\n",
    "plt.xticks([0.0,1.0,2.0,3.0,4.0,5.0,6.0,7.0,8.0,9.0],x_pos)\n",
    "plt.yticks([i for i in range(9,15,1)])\n",
    "plt.legend()\n",
    "plt.title('Trend of people moving earning in the range $35 to 50k')\n",
    "plt.ylabel('in % of total people moving')\n",
    "plt.xlabel('Year')\n",
    "plt.savefig('income_trend_35to50')\n"
   ]
  },
  {
   "cell_type": "code",
   "execution_count": null,
   "id": "9870f03d-0828-41e5-a7fc-631ae4733cd4",
   "metadata": {},
   "outputs": [],
   "source": [
    "x_pos=['2010','2011','2012', '2013','2014','2015','2016','2017','2018','2019']\n",
    "y=[income_50to75_2010,income_50to75_2011,income_50to75_2012,income_50to75_2013,income_50to75_2014,income_50to75_2015,income_50to75_2016,income_50to75_2017,income_50to75_2018,income_50to75_2019]\n",
    "plt.figure(figsize=(7,7)) \n",
    "plt.plot(y,'--bo',label='')\n",
    "plt.xticks([0.0,1.0,2.0,3.0,4.0,5.0,6.0,7.0,8.0,9.0],x_pos)\n",
    "plt.yticks([i for i in range(7,17,1)])\n",
    "plt.legend()\n",
    "plt.title('Trend of people moving earning in the range $50k to 75k')\n",
    "plt.ylabel('in % of total people moving')\n",
    "plt.xlabel('Year')\n",
    "plt.savefig('income_trend_50to75')"
   ]
  },
  {
   "cell_type": "code",
   "execution_count": null,
   "id": "c220a53a-a8f0-4110-b329-678b39b318d8",
   "metadata": {},
   "outputs": [],
   "source": [
    "x_pos=['2010','2011','2012', '2013','2014','2015','2016','2017','2018','2019']\n",
    "y=[income_75_2010,income_75_2011,income_75_2012,income_75_2013,income_75_2014,income_75_2015,income_75_2016,income_75_2017,income_75_2018,income_75_2019]\n",
    "plt.figure(figsize=(7,7)) \n",
    "plt.plot(y,'--bo',label='')\n",
    "plt.xticks([0.0,1.0,2.0,3.0,4.0,5.0,6.0,7.0,8.0,9.0],x_pos)\n",
    "plt.yticks([i for i in range(5,23,2)])\n",
    "plt.legend()\n",
    "plt.title('Trend of people moving earning in the range $75k and above')\n",
    "plt.ylabel('in % of total people moving')\n",
    "plt.xlabel('Year')\n",
    "plt.savefig('income_trend_75')"
   ]
  },
  {
   "cell_type": "code",
   "execution_count": null,
   "id": "b208fc9a-3deb-4fe0-a45a-f448b297222b",
   "metadata": {},
   "outputs": [],
   "source": [
    "labels=[\"0 to 35k dollars\",'35k to 50k dollars','50k to 75k dollars', '75k+ dollars']\n",
    "explode=[0.035,0.035,0.035,0.035]\n",
    "y=[income_0to35_2019,income_35to50_2019,income_50to75_2019,income_75_2019]\n",
    "plt.figure(figsize=(7,7)) \n",
    "textprops = {\"fontsize\":15}\n",
    "plt.pie(y,labels=labels,explode=explode,autopct='%1.1f%%',textprops=textprops)\n",
    "plt.title('Income trend of migrating people for the year 2019',fontsize='18',pad=32)\n",
    "plt.legend(labels=labels,loc='best')\n",
    "plt.savefig('pie_chart_trend_2019')"
   ]
  },
  {
   "cell_type": "code",
   "execution_count": null,
   "id": "c5446af7-65b7-49a6-b297-0cd2a5f043ce",
   "metadata": {},
   "outputs": [],
   "source": [
    "x_pos=['0 to 35k','35k to 50k','50k to 75k', '75k+']\n",
    "y_2010=[income_0to35_2010,income_35to50_2010,income_50to75_2010,income_75_2010]\n",
    "y_2013=[income_0to35_2013,income_35to50_2013,income_50to75_2013,income_75_2013]\n",
    "y_2016=[income_0to35_2016,income_35to50_2016,income_50to75_2016,income_75_2016]\n",
    "y_2019=[income_0to35_2019,income_35to50_2019,income_50to75_2019,income_75_2019]\n",
    "plt.figure(figsize=(7,7)) \n",
    "X_axis = np.arange(len(x_pos))\n",
    "plt.bar(X_axis-0.3,y_2010,width=0.2,label='2010')\n",
    "plt.bar(X_axis-0.1,y_2013,width=0.2,label='2013')\n",
    "plt.bar(X_axis+0.1,y_2016,width=0.2,label='2016')\n",
    "plt.bar(X_axis+0.3,y_2019,width=0.2,label='2019')\n",
    "plt.xticks([0.0,1.0,2.0,3.0],x_pos)\n",
    "plt.yticks([i for i in range(0,80,5)])\n",
    "plt.legend()\n",
    "plt.title('Income trend of migrating people',fontsize='19',pad=15)\n",
    "plt.ylabel('Percentage',fontsize='14')\n",
    "plt.xlabel('Individual income in dollars',fontsize='14')\n",
    "plt.savefig('change_in_trend_bar new')\n"
   ]
  },
  {
   "cell_type": "code",
   "execution_count": null,
   "id": "9d88ff1e-6d58-4737-91cd-17be6ed90af1",
   "metadata": {},
   "outputs": [],
   "source": []
  }
 ],
 "metadata": {
  "kernelspec": {
   "display_name": "Python 3",
   "language": "python",
   "name": "python3"
  },
  "language_info": {
   "codemirror_mode": {
    "name": "ipython",
    "version": 3
   },
   "file_extension": ".py",
   "mimetype": "text/x-python",
   "name": "python",
   "nbconvert_exporter": "python",
   "pygments_lexer": "ipython3",
   "version": "3.8.8"
  }
 },
 "nbformat": 4,
 "nbformat_minor": 5
}
